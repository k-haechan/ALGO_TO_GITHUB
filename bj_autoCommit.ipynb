{
 "cells": [
  {
   "cell_type": "markdown",
   "metadata": {},
   "source": [
    "### 환경 설정"
   ]
  },
  {
   "cell_type": "code",
   "execution_count": 1,
   "metadata": {},
   "outputs": [
    {
     "name": "stdout",
     "output_type": "stream",
     "text": [
      "Requirement already satisfied: pip in /Users/hc/anaconda3/lib/python3.10/site-packages (24.0)\n",
      "Requirement already satisfied: selenium in /Users/hc/anaconda3/lib/python3.10/site-packages (4.18.1)\n",
      "Requirement already satisfied: urllib3<3,>=1.26 in /Users/hc/anaconda3/lib/python3.10/site-packages (from urllib3[socks]<3,>=1.26->selenium) (2.1.0)\n",
      "Requirement already satisfied: trio~=0.17 in /Users/hc/anaconda3/lib/python3.10/site-packages (from selenium) (0.24.0)\n",
      "Requirement already satisfied: trio-websocket~=0.9 in /Users/hc/anaconda3/lib/python3.10/site-packages (from selenium) (0.11.1)\n",
      "Requirement already satisfied: certifi>=2021.10.8 in /Users/hc/anaconda3/lib/python3.10/site-packages (from selenium) (2024.2.2)\n",
      "Requirement already satisfied: typing_extensions>=4.9.0 in /Users/hc/anaconda3/lib/python3.10/site-packages (from selenium) (4.10.0)\n",
      "Requirement already satisfied: attrs>=20.1.0 in /Users/hc/anaconda3/lib/python3.10/site-packages (from trio~=0.17->selenium) (23.1.0)\n",
      "Requirement already satisfied: sortedcontainers in /Users/hc/anaconda3/lib/python3.10/site-packages (from trio~=0.17->selenium) (2.4.0)\n",
      "Requirement already satisfied: idna in /Users/hc/anaconda3/lib/python3.10/site-packages (from trio~=0.17->selenium) (3.4)\n",
      "Requirement already satisfied: outcome in /Users/hc/anaconda3/lib/python3.10/site-packages (from trio~=0.17->selenium) (1.3.0.post0)\n",
      "Requirement already satisfied: sniffio>=1.3.0 in /Users/hc/anaconda3/lib/python3.10/site-packages (from trio~=0.17->selenium) (1.3.1)\n",
      "Requirement already satisfied: exceptiongroup in /Users/hc/anaconda3/lib/python3.10/site-packages (from trio~=0.17->selenium) (1.2.0)\n",
      "Requirement already satisfied: wsproto>=0.14 in /Users/hc/anaconda3/lib/python3.10/site-packages (from trio-websocket~=0.9->selenium) (1.2.0)\n",
      "Requirement already satisfied: pysocks!=1.5.7,<2.0,>=1.5.6 in /Users/hc/anaconda3/lib/python3.10/site-packages (from urllib3[socks]<3,>=1.26->selenium) (1.7.1)\n",
      "Requirement already satisfied: h11<1,>=0.9.0 in /Users/hc/anaconda3/lib/python3.10/site-packages (from wsproto>=0.14->trio-websocket~=0.9->selenium) (0.14.0)\n",
      "Requirement already satisfied: pandas in /Users/hc/anaconda3/lib/python3.10/site-packages (2.2.1)\n",
      "Requirement already satisfied: numpy<2,>=1.22.4 in /Users/hc/.local/lib/python3.10/site-packages (from pandas) (1.24.3)\n",
      "Requirement already satisfied: python-dateutil>=2.8.2 in /Users/hc/anaconda3/lib/python3.10/site-packages (from pandas) (2.8.2)\n",
      "Requirement already satisfied: pytz>=2020.1 in /Users/hc/anaconda3/lib/python3.10/site-packages (from pandas) (2023.3.post1)\n",
      "Requirement already satisfied: tzdata>=2022.7 in /Users/hc/.local/lib/python3.10/site-packages (from pandas) (2023.3)\n",
      "Requirement already satisfied: six>=1.5 in /Users/hc/anaconda3/lib/python3.10/site-packages (from python-dateutil>=2.8.2->pandas) (1.16.0)\n"
     ]
    }
   ],
   "source": [
    "!pip3 install -U pip\n",
    "!pip3 install -U selenium\n",
    "!pip3 install -U pandas"
   ]
  },
  {
   "cell_type": "code",
   "execution_count": 2,
   "metadata": {},
   "outputs": [
    {
     "name": "stdout",
     "output_type": "stream",
     "text": [
      "Requirement already satisfied: selenium in /Users/hc/anaconda3/lib/python3.10/site-packages (4.18.1)\n",
      "Requirement already satisfied: webdriver_manager in /Users/hc/anaconda3/lib/python3.10/site-packages (4.0.1)\n",
      "Requirement already satisfied: urllib3<3,>=1.26 in /Users/hc/anaconda3/lib/python3.10/site-packages (from urllib3[socks]<3,>=1.26->selenium) (2.1.0)\n",
      "Requirement already satisfied: trio~=0.17 in /Users/hc/anaconda3/lib/python3.10/site-packages (from selenium) (0.24.0)\n",
      "Requirement already satisfied: trio-websocket~=0.9 in /Users/hc/anaconda3/lib/python3.10/site-packages (from selenium) (0.11.1)\n",
      "Requirement already satisfied: certifi>=2021.10.8 in /Users/hc/anaconda3/lib/python3.10/site-packages (from selenium) (2024.2.2)\n",
      "Requirement already satisfied: typing_extensions>=4.9.0 in /Users/hc/anaconda3/lib/python3.10/site-packages (from selenium) (4.10.0)\n",
      "Requirement already satisfied: requests in /Users/hc/anaconda3/lib/python3.10/site-packages (from webdriver_manager) (2.31.0)\n",
      "Requirement already satisfied: python-dotenv in /Users/hc/anaconda3/lib/python3.10/site-packages (from webdriver_manager) (1.0.1)\n",
      "Requirement already satisfied: packaging in /Users/hc/anaconda3/lib/python3.10/site-packages (from webdriver_manager) (23.1)\n",
      "Requirement already satisfied: attrs>=20.1.0 in /Users/hc/anaconda3/lib/python3.10/site-packages (from trio~=0.17->selenium) (23.1.0)\n",
      "Requirement already satisfied: sortedcontainers in /Users/hc/anaconda3/lib/python3.10/site-packages (from trio~=0.17->selenium) (2.4.0)\n",
      "Requirement already satisfied: idna in /Users/hc/anaconda3/lib/python3.10/site-packages (from trio~=0.17->selenium) (3.4)\n",
      "Requirement already satisfied: outcome in /Users/hc/anaconda3/lib/python3.10/site-packages (from trio~=0.17->selenium) (1.3.0.post0)\n",
      "Requirement already satisfied: sniffio>=1.3.0 in /Users/hc/anaconda3/lib/python3.10/site-packages (from trio~=0.17->selenium) (1.3.1)\n",
      "Requirement already satisfied: exceptiongroup in /Users/hc/anaconda3/lib/python3.10/site-packages (from trio~=0.17->selenium) (1.2.0)\n",
      "Requirement already satisfied: wsproto>=0.14 in /Users/hc/anaconda3/lib/python3.10/site-packages (from trio-websocket~=0.9->selenium) (1.2.0)\n",
      "Requirement already satisfied: pysocks!=1.5.7,<2.0,>=1.5.6 in /Users/hc/anaconda3/lib/python3.10/site-packages (from urllib3[socks]<3,>=1.26->selenium) (1.7.1)\n",
      "Requirement already satisfied: charset-normalizer<4,>=2 in /Users/hc/anaconda3/lib/python3.10/site-packages (from requests->webdriver_manager) (2.0.4)\n",
      "Requirement already satisfied: h11<1,>=0.9.0 in /Users/hc/anaconda3/lib/python3.10/site-packages (from wsproto>=0.14->trio-websocket~=0.9->selenium) (0.14.0)\n",
      "Requirement already satisfied: selenium in /Users/hc/anaconda3/lib/python3.10/site-packages (4.18.1)\n",
      "Requirement already satisfied: pyperclip in /Users/hc/anaconda3/lib/python3.10/site-packages (1.8.2)\n",
      "Requirement already satisfied: urllib3<3,>=1.26 in /Users/hc/anaconda3/lib/python3.10/site-packages (from urllib3[socks]<3,>=1.26->selenium) (2.1.0)\n",
      "Requirement already satisfied: trio~=0.17 in /Users/hc/anaconda3/lib/python3.10/site-packages (from selenium) (0.24.0)\n",
      "Requirement already satisfied: trio-websocket~=0.9 in /Users/hc/anaconda3/lib/python3.10/site-packages (from selenium) (0.11.1)\n",
      "Requirement already satisfied: certifi>=2021.10.8 in /Users/hc/anaconda3/lib/python3.10/site-packages (from selenium) (2024.2.2)\n",
      "Requirement already satisfied: typing_extensions>=4.9.0 in /Users/hc/anaconda3/lib/python3.10/site-packages (from selenium) (4.10.0)\n",
      "Requirement already satisfied: attrs>=20.1.0 in /Users/hc/anaconda3/lib/python3.10/site-packages (from trio~=0.17->selenium) (23.1.0)\n",
      "Requirement already satisfied: sortedcontainers in /Users/hc/anaconda3/lib/python3.10/site-packages (from trio~=0.17->selenium) (2.4.0)\n",
      "Requirement already satisfied: idna in /Users/hc/anaconda3/lib/python3.10/site-packages (from trio~=0.17->selenium) (3.4)\n",
      "Requirement already satisfied: outcome in /Users/hc/anaconda3/lib/python3.10/site-packages (from trio~=0.17->selenium) (1.3.0.post0)\n",
      "Requirement already satisfied: sniffio>=1.3.0 in /Users/hc/anaconda3/lib/python3.10/site-packages (from trio~=0.17->selenium) (1.3.1)\n",
      "Requirement already satisfied: exceptiongroup in /Users/hc/anaconda3/lib/python3.10/site-packages (from trio~=0.17->selenium) (1.2.0)\n",
      "Requirement already satisfied: wsproto>=0.14 in /Users/hc/anaconda3/lib/python3.10/site-packages (from trio-websocket~=0.9->selenium) (1.2.0)\n",
      "Requirement already satisfied: pysocks!=1.5.7,<2.0,>=1.5.6 in /Users/hc/anaconda3/lib/python3.10/site-packages (from urllib3[socks]<3,>=1.26->selenium) (1.7.1)\n",
      "Requirement already satisfied: h11<1,>=0.9.0 in /Users/hc/anaconda3/lib/python3.10/site-packages (from wsproto>=0.14->trio-websocket~=0.9->selenium) (0.14.0)\n"
     ]
    }
   ],
   "source": [
    "!pip3 install selenium webdriver_manager\n",
    "!pip3 install selenium pyperclip"
   ]
  },
  {
   "cell_type": "markdown",
   "metadata": {},
   "source": [
    "### 모듈 import"
   ]
  },
  {
   "cell_type": "code",
   "execution_count": 3,
   "metadata": {},
   "outputs": [],
   "source": [
    "import pandas as pd\n",
    "import pyperclip\n",
    "\n",
    "# 크롬 드라이버 기본 모듈\n",
    "from selenium import webdriver\n",
    "from selenium.webdriver.chrome.service import Service\n",
    "from selenium.webdriver.chrome.options import Options\n",
    "\n",
    "# 크롬 드라이버 자동 업데이트을 위한 모듈\n",
    "from webdriver_manager.chrome import ChromeDriverManager\n",
    "from selenium.webdriver.common.by import By\n",
    "\n",
    "# 브라우저 꺼짐 방지 옵션\n",
    "chrome_options = Options() # Option class 생성\n",
    "chrome_options.add_experimental_option(\"detach\", True) # add_exp~ 메서드를 이용해서 브라우저와 소스코드의 종료 관계 detach\n",
    "\n",
    "# 불필요한 에러 메시지 삭제\n",
    "chrome_options.add_experimental_option(\"excludeSwitches\", [\"enable-logging\"]) \n",
    "\n",
    "# 크롬 드라이버 최신 버전 설정\n",
    "service = Service(executable_path=ChromeDriverManager().install())\n",
    "\n",
    "browser = webdriver.Chrome(service=service, options=chrome_options)"
   ]
  },
  {
   "cell_type": "markdown",
   "metadata": {},
   "source": [
    "### 사이트 접속 & 로그인"
   ]
  },
  {
   "cell_type": "code",
   "execution_count": 4,
   "metadata": {},
   "outputs": [],
   "source": [
    "# 웹페이지 해당 주소 이동\n",
    "BJ_LOGIN_URL = 'https://www.acmicpc.net/login?next=%2F'\n",
    "browser.get(BJ_LOGIN_URL)\n",
    "browser.implicitly_wait(0.5)\n",
    "\n",
    "# 아이디 비밀번호 저장\n",
    "ID='~~~~@~~~~.com'\n",
    "PW='~~~~'\n",
    "\n",
    "# HTML 태그값 변경 후 click(아이디 비밀번호 입력)\n",
    "id_input = browser.find_element(By.NAME, \"login_user_id\")\n",
    "id_input.click()\n",
    "id_input.send_keys(ID)\n",
    "pw_input = browser.find_element(By.NAME, \"login_password\")\n",
    "pw_input.click()\n",
    "pw_input.send_keys(PW)\n",
    "\n",
    "# 로그인 버튼 클릭\n",
    "login_btn = browser.find_element(By.CSS_SELECTOR, \"#submit_button\")\n",
    "login_btn.click()\n",
    "browser.implicitly_wait(15) # recaptcha"
   ]
  },
  {
   "cell_type": "markdown",
   "metadata": {},
   "source": [
    "### 맞은 문제번호 리스트로 저장"
   ]
  },
  {
   "cell_type": "code",
   "execution_count": 5,
   "metadata": {},
   "outputs": [
    {
     "name": "stdout",
     "output_type": "stream",
     "text": [
      "['1000', '1001', '1002', '1003', '1004', '1008', '1009', '1010', '1011', '1016', '1018', '1021', '1032', '1033', '1037', '1043', '1065', '1085', '1100', '1110', '1149', '1152', '1157', '1158', '1167', '1181', '1182', '1193', '1197', '1219', '1253', '1259', '1260', '1267', '1269', '1292', '1300', '1316', '1330', '1357', '1377', '1389', '1406', '1427', '1436', '1439', '1449', '1456', '1463', '1475', '1476', '1516', '1517', '1541', '1546', '1550', '1620', '1629', '1654', '1707', '1712', '1715', '1717', '1735', '1744', '1747', '1753', '1759', '1764', '1780', '1789', '1850', '1854', '1874', '1904', '1912', '1916', '1919', '1920', '1924', '1927', '1929', '1931', '1932', '1934', '1940', '1948', '1966', '1967', '1976', '1977', '1978', '1992', '2018', '2023', '2108', '2110', '2156', '2163', '2164', '2167', '2178', '2193', '2212', '2231', '2251', '2252', '2292', '2309', '2343', '2346', '2420', '2438', '2439', '2440', '2441', '2442', '2443', '2444', '2445', '2446', '2447', '2455', '2468', '2475', '2476', '2480', '2485', '2490', '2493', '2501', '2504', '2506', '2522', '2523', '2525', '2530', '2557', '2558', '2559', '2562', '2563', '2565', '2566', '2576', '2577', '2579', '2580', '2581', '2587', '2588', '2606', '2630', '2643', '2675', '2720', '2738', '2739', '2740', '2741', '2742', '2743', '2744', '2745', '2747', '2748', '2750', '2751', '2752', '2753', '2754', '2775', '2798', '2805', '2839', '2845', '2869', '2884', '2903', '2908', '2914', '2920', '2935', '2941', '2953', '3003', '3009', '3040', '3046', '3052', '3053', '3107', '3190', '3273', '4101', '4134', '4153', '4344', '4673', '4779', '4948', '4949', '5063', '5073', '5086', '5337', '5338', '5355', '5397', '5597', '5622', '5671', '5717', '6198', '6603', '7287', '7567', '7568', '7785', '8393', '8958', '9012', '9020', '9063', '9086', '9093', '9095', '9184', '9251', '9461', '9498', '9506', '9610', '9653', '9663', '9935', '10039', '10093', '10101', '10102', '10103', '10156', '10162', '10171', '10172', '10214', '10250', '10430', '10610', '10699', '10718', '10757', '10773', '10797', '10798', '10799', '10804', '10807', '10808', '10809', '10810', '10811', '10812', '10813', '10814', '10815', '10816', '10817', '10818', '10828', '10830', '10844', '10845', '10866', '10869', '10870', '10871', '10872', '10886', '10926', '10950', '10951', '10952', '10953', '10986', '10988', '10989', '10991', '10998', '11003', '11004', '11005', '11021', '11022', '11047', '11049', '11050', '11053', '11054', '11066', '11279', '11286', '11328', '11382', '11399', '11401', '11403', '11444', '11478', '11557', '11650', '11651', '11653', '11654', '11656', '11657', '11659', '11660', '11689', '11718', '11719', '11720', '11721', '11723', '11724', '11726', '11727', '11729', '11866', '11942', '12789', '12852', '12865', '12891', '12904', '13023', '13241', '13300', '13305', '13909', '14002', '14215', '14425', '14500', '14501', '14502', '14503', '14645', '14681', '14888', '14889', '15439', '15486', '15552', '15596', '15649', '15650', '15651', '15652', '15680', '15686', '15733', '15829', '15894', '15964', '16139', '16960', '17103', '17298', '17451', '17478', '18108', '18258', '18310', '18352', '18870', '19532', '19539', '20040', '20920', '24060', '24262', '24263', '24264', '24265', '24266', '24267', '24313', '24416', '24511', '24723', '25083', '25192', '25206', '25304', '25305', '25314', '25501', '25682', '26069', '27323', '27433', '27866', '28278', '28279']\n"
     ]
    }
   ],
   "source": [
    "# 마이페이지 이동\n",
    "user_name = browser.find_element(By.CLASS_NAME, \"username\")\n",
    "user_name.click()\n",
    "\n",
    "#맞은 문제 리스트로 저장\n",
    "problem_list = browser.find_elements(By.CSS_SELECTOR,'body > div.wrapper > div.container.content > div.row > div:nth-child(2) > div > div.col-md-9 > div:nth-child(2) > div.panel-body > div > a')\n",
    "problem_list=list(map(lambda page:page.get_attribute(\"innerHTML\"),problem_list))\n",
    "print(problem_list)"
   ]
  },
  {
   "cell_type": "markdown",
   "metadata": {},
   "source": [
    "### 문제별로 데이터 추출\n",
    "- 문제 번호\n",
    "- 문제 제목\n",
    "- 문제 난이도 https://d2gd6pc034wcta.cloudfront.net/tier/1.svg, (1~5 브론즈5~브론즈1) (6~10 실버5~실버1) ...\n",
    "- 맞은 코드 제출 내역 (제출 번호)\n",
    "- 메모리\n",
    "- 시간\n",
    "- 프로그래밍 언어\n",
    "- 코드 길이\n",
    "- 제출 날짜"
   ]
  },
  {
   "cell_type": "code",
   "execution_count": 6,
   "metadata": {},
   "outputs": [],
   "source": [
    "submit_list=[]\n",
    "def getProblemData(problem_number):\n",
    "    # 문제 URL 주소로 문제 페이지 접속\n",
    "    browser.get('https://www.acmicpc.net/problem/'+problem_number)\n",
    "    # 문제 제목\n",
    "    problem_title = browser.find_element(By.CSS_SELECTOR,'#problem_title').get_attribute(\"innerText\")\n",
    "\n",
    "    # 문제 레벨\n",
    "    problem_level_url = browser.find_element(By.CSS_SELECTOR,'body > div.wrapper > div.container.content > div.row > div:nth-child(2) > ul > li.active > a > img').get_attribute('src')\n",
    "    problem_level = problem_level_url.split('/')[-1].split('.')[0]\n",
    "\n",
    "    # 내 제출 내역으로 이동\n",
    "    my_submit = browser.find_element(By.CSS_SELECTOR,'body > div.wrapper > div.container.content > div.row > div:nth-child(2) > ul > li:nth-child(7) > a')\n",
    "    my_submit.click()\n",
    "\n",
    "    # 내 제출 내역 중 맞은 내역만 리스트로 전환\n",
    "    my_submit_list = browser.find_elements(By.CSS_SELECTOR, '#status-table > tbody > tr')\n",
    "    my_submit_list = list(filter(lambda submit:submit.find_element(By.CLASS_NAME,'result').get_attribute(\"innerText\") == '맞았습니다!!',my_submit_list))\n",
    "    \n",
    "    # 리스트 순회, 내 정답 데이터 추출\n",
    "    for submit in my_submit_list:\n",
    "        submit_id = submit.find_element(By.CSS_SELECTOR,'td:nth-child(1)').get_attribute('innerHTML')\n",
    "\n",
    "        memory = submit.find_element(By.CLASS_NAME,'memory').get_attribute('innerHTML').replace('<span class=\"','').replace('-text\"></span>','')\n",
    "\n",
    "        time = submit.find_element(By.CLASS_NAME,'time').get_attribute('innerHTML').replace('<span class=\"','').replace('-text\"></span>','')\n",
    "\n",
    "        language = submit.find_element(By.CSS_SELECTOR,'td:nth-child(7) > a').get_attribute('innerHTML')\n",
    "\n",
    "        code_length = submit.find_element(By.CSS_SELECTOR,'td:nth-child(8)').get_attribute('innerHTML').replace('<span class=\"','').replace('-text\"></span>','')\n",
    "\n",
    "        submit_date = submit.find_element(By.CSS_SELECTOR,'td:nth-child(9) > a').get_attribute('data-original-title')\n",
    "    \n",
    "        # 정답 데이터 저장\n",
    "        submit_list.append([problem_number,problem_title,problem_level,submit_id,memory,time,language,code_length,submit_date])\n",
    "    "
   ]
  },
  {
   "cell_type": "markdown",
   "metadata": {},
   "source": [
    "### 문제별로 풀이내역 저장"
   ]
  },
  {
   "cell_type": "code",
   "execution_count": 7,
   "metadata": {},
   "outputs": [],
   "source": [
    "for problem in problem_list:\n",
    "    getProblemData(problem)"
   ]
  },
  {
   "cell_type": "code",
   "execution_count": 8,
   "metadata": {},
   "outputs": [
    {
     "name": "stdout",
     "output_type": "stream",
     "text": [
      "<class 'pandas.core.frame.DataFrame'>\n",
      "RangeIndex: 581 entries, 0 to 580\n",
      "Data columns (total 9 columns):\n",
      " #   Column  Non-Null Count  Dtype \n",
      "---  ------  --------------  ----- \n",
      " 0   문제번호    581 non-null    object\n",
      " 1   문제제목    581 non-null    object\n",
      " 2   문제난이도   581 non-null    object\n",
      " 3   제출번호    581 non-null    object\n",
      " 4   메모리     581 non-null    object\n",
      " 5   시간      581 non-null    object\n",
      " 6   언어      581 non-null    object\n",
      " 7   코드길이    581 non-null    object\n",
      " 8   제출날짜    581 non-null    object\n",
      "dtypes: object(9)\n",
      "memory usage: 41.0+ KB\n"
     ]
    }
   ],
   "source": [
    "submit_df=pd.DataFrame(submit_list,columns=['문제번호','문제제목','문제난이도','제출번호','메모리','시간','언어','코드길이','제출날짜'])\n",
    "submit_df.info()"
   ]
  },
  {
   "cell_type": "code",
   "execution_count": 9,
   "metadata": {},
   "outputs": [
    {
     "name": "stdout",
     "output_type": "stream",
     "text": [
      "<class 'pandas.core.frame.DataFrame'>\n",
      "RangeIndex: 581 entries, 0 to 580\n",
      "Data columns (total 2 columns):\n",
      " #   Column  Non-Null Count  Dtype \n",
      "---  ------  --------------  ----- \n",
      " 0   제출번호    581 non-null    object\n",
      " 1   제출코드    581 non-null    object\n",
      "dtypes: object(2)\n",
      "memory usage: 9.2+ KB\n"
     ]
    }
   ],
   "source": [
    "solvedCode_list=[]\n",
    "for code_id in submit_df['제출번호']:\n",
    "    CODE_URL='https://www.acmicpc.net/source/'+code_id\n",
    "    browser.get(CODE_URL)\n",
    "    paste_button = browser.find_element(By.CSS_SELECTOR,'body > div.wrapper > div.container.content > div.row > div.col-md-3 > div > button')\n",
    "    paste_button.click() # 복사\n",
    "    code = pyperclip.paste() # 붙여넣기\n",
    "    solvedCode_list.append([code_id,code])\n",
    "\n",
    "solvedCode_df = pd.DataFrame(solvedCode_list,columns=['제출번호','제출코드'])\n",
    "solvedCode_df.info()"
   ]
  },
  {
   "cell_type": "code",
   "execution_count": 10,
   "metadata": {},
   "outputs": [
    {
     "data": {
      "text/plain": [
       "'import sys\\ninput=sys.stdin.readline\\nn=int(input())\\nfor _ in range(n):\\n    a,b=map(int,input().split())\\n    v=pow(a,b,10)\\n    print(v if v!=0 else 10)'"
      ]
     },
     "execution_count": 10,
     "metadata": {},
     "output_type": "execute_result"
    }
   ],
   "source": [
    "solvedCode_df['제출코드'][10]"
   ]
  },
  {
   "cell_type": "markdown",
   "metadata": {},
   "source": [
    "### 두 데이터프레임 조인, 언어별로 최신 코드만 저장\n",
    "- on 제출코드"
   ]
  },
  {
   "cell_type": "code",
   "execution_count": 64,
   "metadata": {},
   "outputs": [],
   "source": [
    "join_table=pd.merge(submit_df,solvedCode_df)\n",
    "join_table=join_table.groupby(['문제번호','언어']).first().reset_index()\n",
    "join_table.info()"
   ]
  },
  {
   "cell_type": "markdown",
   "metadata": {},
   "source": [
    "### 소스코드 파일로 전환"
   ]
  },
  {
   "cell_type": "code",
   "execution_count": 73,
   "metadata": {},
   "outputs": [],
   "source": [
    "lang={'C99':'c','Python 3':'py','PyPy3':'py','Java 11':'java','C++17':'cpp'}\n",
    "level=['','B5','B4','B3','B2','B1','S5','S4','S3','S2','S1','G5','G4','G3','G2','G1','P5','P4','P3','P2','P1','D5','D4','D3','D2','D1']\n",
    "full_level={'B':'Bronze','S':'Silver','G':'Gold','P':'Platinum','D':'Diamond'}\n",
    "for i in range(len(join_table)): # join_table로 변경\n",
    "    tuple=join_table.iloc[i]\n",
    "    with open('BJ/'+full_level[level[int(tuple['문제난이도'])][0]]+'/'+level[int(tuple['문제난이도'])]+'_'+tuple['문제번호']+'.'+lang[tuple['언어']], 'w') as file:\n",
    "        file.write(\n",
    "            '# ' + tuple['문제제목'] + ', ' + tuple['제출날짜'] + ', ' + tuple['메모리'] + ', ' + tuple['시간'] + ', ' + tuple['코드길이'] + '\\n'\n",
    "            + tuple['제출코드'] + '\\n')"
   ]
  }
 ],
 "metadata": {
  "kernelspec": {
   "display_name": "base",
   "language": "python",
   "name": "python3"
  },
  "language_info": {
   "codemirror_mode": {
    "name": "ipython",
    "version": 3
   },
   "file_extension": ".py",
   "mimetype": "text/x-python",
   "name": "python",
   "nbconvert_exporter": "python",
   "pygments_lexer": "ipython3",
   "version": "3.10.13"
  }
 },
 "nbformat": 4,
 "nbformat_minor": 2
}
